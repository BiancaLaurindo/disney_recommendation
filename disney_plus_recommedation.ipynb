{
 "cells": [
  {
   "cell_type": "markdown",
   "metadata": {},
   "source": [
    "### Disney recommendation modelling"
   ]
  },
  {
   "cell_type": "markdown",
   "metadata": {},
   "source": [
    "Disney+ is another one of the most popular media and video streaming platforms. They have close to 1300 movies or tv shows available on their platform, as of mid-2021, they have over 116M Subscribers globally. This tabular dataset consists of listings of all the movies and tv shows available on Disney+, along with details such as - show_id, type, title, country, cast, date_added, directors, ratings, release year and duration.\n",
    "\n",
    "\n",
    "**Dataset Info -** The Dataset contains 1,535 rows and 15 columns, 1 ID Column and others described below.\n",
    "\n",
    "- **id**: The title ID on JustWatch\n",
    "- **title**: The name of the title\n",
    "- **show_type**: TV show or movie\n",
    "- **description**: A brief description\n",
    "- **release_year**: The release year\n",
    "- **age_certification**: The age certification\n",
    "- **runtime**: The length of the episode (SHOW) or movie\n",
    "- **genres**: A list of genres\n",
    "- **production_countries**: A list of countries that produced the title\n",
    "- **seasons**: Number of seasons if it's a SHOW\n",
    "- **imdb_id**: The title ID on IMDB\n",
    "- **imdb_score**: Score on IMDB\n",
    "- **imdb_votes**: Votes on IMDB\n",
    "- **tmdb_popularity**: Popularity on TMDB\n",
    "- **tmdb_score**: Score on TMDB\n",
    "\n",
    "\n",
    "- **Goal**\n",
    "The goal of this project is to develop a recommendation system for Disney Plus, enhancing user experience by efficiently helping them discover new shows and movies of their interest. Currently, users may struggle to find content that matches their personal preferences due to the extensive library available. An effective recommendation system can not only increase user engagement but also improve overall satisfaction by facilitating personalized discovery of relevant content.\n",
    "\n",
    "- **ML Problem Statement**\n",
    "The associated ML problem is to develop a recommendation model capable of analyzing the viewing history and preferences of Disney Plus users to predict and recommend new shows and movies they are likely to enjoy. This is a collaborative filtering-based item recommendation problem aimed at delivering accurate and relevant recommendations to enhance user discovery experience on the streaming service."
   ]
  },
  {
   "cell_type": "markdown",
   "metadata": {},
   "source": [
    "## Importing the libraries :"
   ]
  },
  {
   "cell_type": "code",
   "execution_count": 30,
   "metadata": {},
   "outputs": [],
   "source": [
    "import numpy as np\n",
    "import pandas as pd\n",
    "import matplotlib.pyplot as plt\n",
    "import seaborn as sns\n",
    "import sklearn as sk\n",
    "import lets_plot as lp"
   ]
  },
  {
   "cell_type": "markdown",
   "metadata": {},
   "source": [
    "## Loading the dataset :"
   ]
  },
  {
   "cell_type": "code",
   "execution_count": 31,
   "metadata": {},
   "outputs": [],
   "source": [
    "file_path = r'C:\\Users\\Bianca\\Documents\\GitHub\\disney_recommendation\\titles.csv'\n",
    "disney_plus = pd.read_csv(file_path)"
   ]
  },
  {
   "cell_type": "code",
   "execution_count": 32,
   "metadata": {},
   "outputs": [
    {
     "data": {
      "text/html": [
       "<div>\n",
       "<style scoped>\n",
       "    .dataframe tbody tr th:only-of-type {\n",
       "        vertical-align: middle;\n",
       "    }\n",
       "\n",
       "    .dataframe tbody tr th {\n",
       "        vertical-align: top;\n",
       "    }\n",
       "\n",
       "    .dataframe thead th {\n",
       "        text-align: right;\n",
       "    }\n",
       "</style>\n",
       "<table border=\"1\" class=\"dataframe\">\n",
       "  <thead>\n",
       "    <tr style=\"text-align: right;\">\n",
       "      <th></th>\n",
       "      <th>id</th>\n",
       "      <th>title</th>\n",
       "      <th>type</th>\n",
       "      <th>description</th>\n",
       "      <th>release_year</th>\n",
       "      <th>age_certification</th>\n",
       "      <th>runtime</th>\n",
       "      <th>genres</th>\n",
       "      <th>production_countries</th>\n",
       "      <th>seasons</th>\n",
       "      <th>imdb_id</th>\n",
       "      <th>imdb_score</th>\n",
       "      <th>imdb_votes</th>\n",
       "      <th>tmdb_popularity</th>\n",
       "      <th>tmdb_score</th>\n",
       "    </tr>\n",
       "  </thead>\n",
       "  <tbody>\n",
       "    <tr>\n",
       "      <th>0</th>\n",
       "      <td>tm74391</td>\n",
       "      <td>Fantasia</td>\n",
       "      <td>MOVIE</td>\n",
       "      <td>Walt Disney's timeless masterpiece is an extra...</td>\n",
       "      <td>1940</td>\n",
       "      <td>G</td>\n",
       "      <td>120</td>\n",
       "      <td>['animation', 'family', 'music', 'fantasy']</td>\n",
       "      <td>['US']</td>\n",
       "      <td>NaN</td>\n",
       "      <td>tt0032455</td>\n",
       "      <td>7.7</td>\n",
       "      <td>94681.0</td>\n",
       "      <td>57.751</td>\n",
       "      <td>7.4</td>\n",
       "    </tr>\n",
       "    <tr>\n",
       "      <th>1</th>\n",
       "      <td>tm67803</td>\n",
       "      <td>Snow White and the Seven Dwarfs</td>\n",
       "      <td>MOVIE</td>\n",
       "      <td>A beautiful girl, Snow White, takes refuge in ...</td>\n",
       "      <td>1937</td>\n",
       "      <td>G</td>\n",
       "      <td>83</td>\n",
       "      <td>['fantasy', 'family', 'romance', 'animation', ...</td>\n",
       "      <td>['US']</td>\n",
       "      <td>NaN</td>\n",
       "      <td>tt0029583</td>\n",
       "      <td>7.6</td>\n",
       "      <td>195321.0</td>\n",
       "      <td>107.137</td>\n",
       "      <td>7.1</td>\n",
       "    </tr>\n",
       "    <tr>\n",
       "      <th>2</th>\n",
       "      <td>tm82546</td>\n",
       "      <td>Pinocchio</td>\n",
       "      <td>MOVIE</td>\n",
       "      <td>Lonely toymaker Geppetto has his wishes answer...</td>\n",
       "      <td>1940</td>\n",
       "      <td>G</td>\n",
       "      <td>88</td>\n",
       "      <td>['animation', 'comedy', 'family', 'fantasy']</td>\n",
       "      <td>['US']</td>\n",
       "      <td>NaN</td>\n",
       "      <td>tt0032910</td>\n",
       "      <td>7.5</td>\n",
       "      <td>141937.0</td>\n",
       "      <td>71.160</td>\n",
       "      <td>7.1</td>\n",
       "    </tr>\n",
       "  </tbody>\n",
       "</table>\n",
       "</div>"
      ],
      "text/plain": [
       "        id                            title   type  \\\n",
       "0  tm74391                         Fantasia  MOVIE   \n",
       "1  tm67803  Snow White and the Seven Dwarfs  MOVIE   \n",
       "2  tm82546                        Pinocchio  MOVIE   \n",
       "\n",
       "                                         description  release_year  \\\n",
       "0  Walt Disney's timeless masterpiece is an extra...          1940   \n",
       "1  A beautiful girl, Snow White, takes refuge in ...          1937   \n",
       "2  Lonely toymaker Geppetto has his wishes answer...          1940   \n",
       "\n",
       "  age_certification  runtime  \\\n",
       "0                 G      120   \n",
       "1                 G       83   \n",
       "2                 G       88   \n",
       "\n",
       "                                              genres production_countries  \\\n",
       "0        ['animation', 'family', 'music', 'fantasy']               ['US']   \n",
       "1  ['fantasy', 'family', 'romance', 'animation', ...               ['US']   \n",
       "2       ['animation', 'comedy', 'family', 'fantasy']               ['US']   \n",
       "\n",
       "   seasons    imdb_id  imdb_score  imdb_votes  tmdb_popularity  tmdb_score  \n",
       "0      NaN  tt0032455         7.7     94681.0           57.751         7.4  \n",
       "1      NaN  tt0029583         7.6    195321.0          107.137         7.1  \n",
       "2      NaN  tt0032910         7.5    141937.0           71.160         7.1  "
      ]
     },
     "execution_count": 32,
     "metadata": {},
     "output_type": "execute_result"
    }
   ],
   "source": [
    "disney_plus.head(3) # Exibe as primeiras 3 linhas por padrão"
   ]
  },
  {
   "cell_type": "code",
   "execution_count": 33,
   "metadata": {},
   "outputs": [
    {
     "data": {
      "text/plain": [
       "(1535, 15)"
      ]
     },
     "execution_count": 33,
     "metadata": {},
     "output_type": "execute_result"
    }
   ],
   "source": [
    "disney_plus.shape # Retorna uma tupla (número de linhas, número de colunas)"
   ]
  },
  {
   "cell_type": "code",
   "execution_count": 34,
   "metadata": {},
   "outputs": [
    {
     "data": {
      "text/plain": [
       "id                       object\n",
       "title                    object\n",
       "type                     object\n",
       "description              object\n",
       "release_year              int64\n",
       "age_certification        object\n",
       "runtime                   int64\n",
       "genres                   object\n",
       "production_countries     object\n",
       "seasons                 float64\n",
       "imdb_id                  object\n",
       "imdb_score              float64\n",
       "imdb_votes              float64\n",
       "tmdb_popularity         float64\n",
       "tmdb_score              float64\n",
       "dtype: object"
      ]
     },
     "execution_count": 34,
     "metadata": {},
     "output_type": "execute_result"
    }
   ],
   "source": [
    "disney_plus.dtypes  # Retorna os tipos de dados de cada coluna"
   ]
  },
  {
   "cell_type": "code",
   "execution_count": 35,
   "metadata": {},
   "outputs": [
    {
     "data": {
      "text/plain": [
       "id                      1535\n",
       "title                   1500\n",
       "type                       2\n",
       "description             1528\n",
       "release_year              91\n",
       "age_certification          9\n",
       "runtime                  157\n",
       "genres                   621\n",
       "production_countries      70\n",
       "seasons                   15\n",
       "imdb_id                 1133\n",
       "imdb_score                66\n",
       "imdb_votes              1003\n",
       "tmdb_popularity         1445\n",
       "tmdb_score                62\n",
       "dtype: int64"
      ]
     },
     "execution_count": 35,
     "metadata": {},
     "output_type": "execute_result"
    }
   ],
   "source": [
    "disney_plus.nunique() # Retorna o número de valores únicos em cada coluna"
   ]
  },
  {
   "cell_type": "code",
   "execution_count": 36,
   "metadata": {},
   "outputs": [
    {
     "data": {
      "text/plain": [
       "id                         0\n",
       "title                      0\n",
       "type                       0\n",
       "description                6\n",
       "release_year               0\n",
       "age_certification        325\n",
       "runtime                    0\n",
       "genres                     0\n",
       "production_countries       0\n",
       "seasons                 1120\n",
       "imdb_id                  402\n",
       "imdb_score               427\n",
       "imdb_votes               430\n",
       "tmdb_popularity           11\n",
       "tmdb_score               109\n",
       "dtype: int64"
      ]
     },
     "execution_count": 36,
     "metadata": {},
     "output_type": "execute_result"
    }
   ],
   "source": [
    "disney_plus.isnull().sum() # Finding Missing Values"
   ]
  },
  {
   "cell_type": "code",
   "execution_count": 37,
   "metadata": {},
   "outputs": [
    {
     "name": "stdout",
     "output_type": "stream",
     "text": [
      "id                         0\n",
      "title                      0\n",
      "type                       0\n",
      "description                6\n",
      "release_year               0\n",
      "age_certification        325\n",
      "runtime                    0\n",
      "genres                     0\n",
      "production_countries       0\n",
      "seasons                 1120\n",
      "imdb_id                  402\n",
      "imdb_score               427\n",
      "imdb_votes               430\n",
      "tmdb_popularity           11\n",
      "tmdb_score               109\n",
      "dtype: int64\n"
     ]
    }
   ],
   "source": [
    "print(disney_plus.isnull().sum())"
   ]
  },
  {
   "cell_type": "code",
   "execution_count": 40,
   "metadata": {},
   "outputs": [
    {
     "data": {
      "image/png": "[encoded data removed]",
      "text/plain": [
       "<Figure size 1400x600 with 1 Axes>"
      ]
     },
     "metadata": {},
     "output_type": "display_data"
    }
   ],
   "source": [
    "missing_values_count = disney_plus.isnull().sum()\n",
    "\n",
    "# Configura o tamanho da figura\n",
    "plt.figure(figsize=(14, 6))\n",
    "\n",
    "# Cria o gráfico de barras\n",
    "sns.barplot(x=missing_values_count.index, y=missing_values_count)\n",
    "\n",
    "# Adiciona título ao gráfico\n",
    "plt.title(\"Missing Values\")\n",
    "\n",
    "# Configurações adicionais para o eixo x, eixo y e rotação dos rótulos no eixo x\n",
    "plt.xlabel(\"Columns\")\n",
    "plt.ylabel(\"Missing Values Count\")\n",
    "plt.xticks(rotation=90)\n",
    "\n",
    "# Adiciona os valores numéricos acima das barras\n",
    "ax = plt.gca()\n",
    "for p in ax.patches:\n",
    "    height = p.get_height()\n",
    "    ax.text(p.get_x() + p.get_width()/2., height + 2,\n",
    "            int(height), fontsize=12, ha='center', va='bottom')\n",
    "\n",
    "# Exibe o gráfico\n",
    "plt.show()\n"
   ]
  },
  {
   "cell_type": "code",
   "execution_count": null,
   "metadata": {},
   "outputs": [],
   "source": []
  }
 ],
 "metadata": {
  "kernelspec": {
   "display_name": "Python 3",
   "language": "python",
   "name": "python3"
  },
  "language_info": {
   "codemirror_mode": {
    "name": "ipython",
    "version": 3
   },
   "file_extension": ".py",
   "mimetype": "text/x-python",
   "name": "python",
   "nbconvert_exporter": "python",
   "pygments_lexer": "ipython3",
   "version": "3.11.9"
  }
 },
 "nbformat": 4,
 "nbformat_minor": 2
}
